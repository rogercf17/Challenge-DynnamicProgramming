{
  "nbformat": 4,
  "nbformat_minor": 0,
  "metadata": {
    "colab": {
      "provenance": []
    },
    "kernelspec": {
      "name": "python3",
      "display_name": "Python 3"
    },
    "language_info": {
      "name": "python"
    }
  },
  "cells": [
    {
      "cell_type": "markdown",
      "source": [
        "# Challenge Dasa - Dynnamic Programming"
      ],
      "metadata": {
        "id": "IkUs8FvNltI3"
      }
    },
    {
      "cell_type": "code",
      "execution_count": 13,
      "metadata": {
        "id": "Pnp4gKellWvx"
      },
      "outputs": [],
      "source": [
        "import logging\n",
        "from functools import lru_cache\n",
        "import matplotlib.pyplot as plt\n",
        "import csv\n",
        "import statistics\n",
        "import time\n",
        "import tracemalloc"
      ]
    },
    {
      "cell_type": "code",
      "source": [
        "logging.basicConfig(level=logging.INFO, format='%(asctime)s - %(levelname)s - %(message)s')"
      ],
      "metadata": {
        "id": "339sCz8ImBgL"
      },
      "execution_count": 2,
      "outputs": []
    },
    {
      "cell_type": "code",
      "source": [
        "exames = [\n",
        "    {\"id\": 1, \"paciente\": \"Maria\", \"medidas\": [1.2, 0.8, 0.9]},\n",
        "    {\"id\": 2, \"paciente\": \"João\", \"medidas\": [2.1, 1.5, 1.9]},\n",
        "    {\"id\": 3, \"paciente\": \"Luiza\", \"medidas\": [0.5, 0.7, 0.6]},\n",
        "    {\"id\": 4, \"paciente\": \"Carlos\", \"medidas\": [1.0, 1.2, 1.1]},\n",
        "    {\"id\": 5, \"paciente\": \"Heitor\", \"medidas\": [2.5, 2.0, 2.2]},\n",
        "    {\"id\": 6, \"paciente\": \"Pedro\", \"medidas\": [0.9, 0.8, 0.85]},\n",
        "    {\"id\": 7, \"paciente\": \"Fernanda\", \"medidas\": [1.7, 1.6, 1.8]},\n",
        "    {\"id\": 8, \"paciente\": \"Lucas\", \"medidas\": [1.1, 1.0, 0.95]},\n",
        "    {\"id\": 9, \"paciente\": \"Roger\", \"medidas\": [2.3, 2.1, 2.4]},\n",
        "    {\"id\": 10, \"paciente\": \"Rafael\", \"medidas\": [0.6, 0.7, 0.8]},\n",
        "    {\"id\": 11, \"paciente\": \"Vinícius\", \"medidas\": [1.4, 1.2, 1.3]},\n",
        "    {\"id\": 12, \"paciente\": \"Felipe\", \"medidas\": [1.9, 2.0, 1.8]},\n",
        "    {\"id\": 13, \"paciente\": \"Belisa\", \"medidas\": [0.75, 0.8, 0.7]},\n",
        "    {\"id\": 14, \"paciente\": \"Bruno\", \"medidas\": [2.2, 2.0, 2.1]},\n",
        "    {\"id\": 15, \"paciente\": \"Jessica\", \"medidas\": [1.3, 1.4, 1.2]},\n",
        "    {\"id\": 16, \"paciente\": \"Eduardo\", \"medidas\": [0.9, 1.0, 0.85]},\n",
        "    {\"id\": 17, \"paciente\": \"Davi\", \"medidas\": [1.6, 1.7, 1.5]},\n",
        "    {\"id\": 18, \"paciente\": \"Thiago\", \"medidas\": [2.5, 2.3, 2.4]},\n",
        "    {\"id\": 19, \"paciente\": \"Gabriel\", \"medidas\": [1.0, 1.1, 1.0]},\n",
        "    {\"id\": 20, \"paciente\": \"Gustavo\", \"medidas\": [0.8, 0.85, 0.9]},\n",
        "]"
      ],
      "metadata": {
        "id": "Y2Bnww3BmIeI"
      },
      "execution_count": 3,
      "outputs": []
    },
    {
      "cell_type": "code",
      "source": [
        "@lru_cache(maxsize=None)\n",
        "def calcular_volume_cached(tupla_medidas):\n",
        "  \"\"\" Calcula e memoriza o volume da amostra \"\"\"\n",
        "  volume = 1\n",
        "  for m in tupla_medidas:\n",
        "    volume *= m\n",
        "  logging.debug(f\"Volume calculado: {volume} para {tupla_medidas}\")\n",
        "  return volume\n",
        "\n",
        "def calcular_volume(medidas):\n",
        "  \"\"\" Wrapper para converter lista em tupla para memoization \"\"\"\n",
        "  return calcular_volume_cached(tuple(medidas))\n",
        "\n",
        "def soma_volumes_recursiva(exames, idx=0):\n",
        "  \"\"\" Soma recursivamente o volume de todas as amostras \"\"\"\n",
        "  if idx == len(exames):\n",
        "    return 0\n",
        "  volume = calcular_volume(exames[idx]['medidas'])\n",
        "  return volume + soma_volumes_recursiva(exames, idx + 1)"
      ],
      "metadata": {
        "id": "nj-Cw6_cmvMI"
      },
      "execution_count": 6,
      "outputs": []
    },
    {
      "cell_type": "code",
      "source": [
        "def filtrar_exames(exames, limite):\n",
        "  \"\"\" Filtra exames com pelo menos uma medida acima do limite \"\"\"\n",
        "  filtrados = [exame for exame in exames if max(exame['medidas']) > limite]\n",
        "  logging.info(f\"{len(filtrados)} exames encontrados com medidas acima de {limite}\")\n",
        "  return filtrados"
      ],
      "metadata": {
        "id": "lp0zGL85qx3S"
      },
      "execution_count": 5,
      "outputs": []
    },
    {
      "cell_type": "code",
      "source": [
        "def busca_binaria(exames, id_procurado):\n",
        "  \"\"\" Busca binária por ID do exame \"\"\"\n",
        "  exames_ordenados = sorted(exames, key=lambda x: x['id'])\n",
        "  esquerda, direita = 0, len(exames_ordenados) - 1\n",
        "  logging.info(f\"Iniciando busca binária pelo ID: {id_procurado}\")\n",
        "  while esquerda <= direita:\n",
        "    meio = (esquerda + direita) // 2\n",
        "    if exames_ordenados[meio]['id'] == id_procurado:\n",
        "      logging.info(f\"Exame encontrado: {exames_ordenados[meio]}\")\n",
        "      return exames_ordenados[meio]\n",
        "    elif exames_ordenados[meio]['id'] < id_procurado:\n",
        "      esquerda = meio + 1\n",
        "    else:\n",
        "      direita = meio - 1\n",
        "  logging.warning(f\"Exame com ID {id_procurado} não encontrado.\")\n",
        "  return None"
      ],
      "metadata": {
        "id": "fYY3HHQbtgRB"
      },
      "execution_count": 7,
      "outputs": []
    },
    {
      "cell_type": "code",
      "source": [
        "def validar_medidas(exame, referencia=(0.5, 2.5)):\n",
        "    \"\"\" Valida se todas as medidas estão dentro do intervalo de referência \"\"\"\n",
        "    return all(referencia[0] <= m <= referencia[1] for m in exame['medidas'])"
      ],
      "metadata": {
        "id": "zeKXyskW8Hex"
      },
      "execution_count": 8,
      "outputs": []
    },
    {
      "cell_type": "code",
      "source": [
        "def analise_estatistica(exames):\n",
        "  \"\"\" Calcula média e desvio padrão das medidas de cada paciente \"\"\"\n",
        "  estatisticas = []\n",
        "  for exame in exames:\n",
        "    medidas = exame['medidas']\n",
        "    media = statistics.mean(medidas)\n",
        "    desvio = statistics.stdev(medidas) if len(medidas) > 1 else 0\n",
        "    estatisticas.append({'paciente': exame['paciente'], 'media': media, 'desvio': desvio})\n",
        "  return estatisticas"
      ],
      "metadata": {
        "id": "5dtgRv8q8UhJ"
      },
      "execution_count": 9,
      "outputs": []
    },
    {
      "cell_type": "code",
      "source": [
        "def exportar_relatorio(exames, nome_arquivo=\"relatorio_exames.txt\"):\n",
        "  \"\"\" Exporta um relatório dos exames para um arquivo de texto \"\"\"\n",
        "  with open(nome_arquivo, 'w') as f:\n",
        "    f.write(\"Relatório de exames críticos\\n\")\n",
        "    f.write(\"============================\\n\")\n",
        "    for exame in exames:\n",
        "      f.write(f\"Paciente: {exame['paciente']} - Medidas: {exame['medidas']} - Volume: {calcular_volume(exame['medidas']):.2f}\\n\")\n",
        "    logging.info(f\"Relatório exportado com sucesso para {nome_arquivo}\")\n",
        "\n",
        "def exportar_csv(exames, nome_arquivo=\"relatorio_exames.csv\"):\n",
        "    \"\"\" Exporta relatório .csv \"\"\"\n",
        "    with open(nome_arquivo, mode='w', newline='') as file:\n",
        "        writer = csv.writer(file)\n",
        "        writer.writerow(['Paciente', 'Medidas', 'Volume'])\n",
        "        for ex in exames:\n",
        "            writer.writerow([ex['paciente'], ex['medidas'], calcular_volume(ex['medidas'])])\n",
        "    logging.info(f\"Relatório CSV exportado para {nome_arquivo}\")"
      ],
      "metadata": {
        "id": "dCV4S4uM0fUg"
      },
      "execution_count": 10,
      "outputs": []
    },
    {
      "cell_type": "code",
      "source": [
        "def gerar_grafico_volumes(exames):\n",
        "    \"\"\" Gera gráfico de barras com volumes das amostras \"\"\"\n",
        "    nomes = [ex['paciente'] for ex in exames]\n",
        "    volumes = [calcular_volume(ex['medidas']) for ex in exames]\n",
        "    plt.figure(figsize=(12, 6))\n",
        "    plt.bar(nomes, volumes, color='skyblue')\n",
        "    plt.xlabel('Paciente')\n",
        "    plt.ylabel('Volume da Amostra')\n",
        "    plt.title('Volume das Amostras por Paciente')\n",
        "    plt.xticks(rotation=45, ha='right')\n",
        "    plt.tight_layout()\n",
        "    plt.savefig(\"grafico_volumes.png\")\n",
        "    plt.show()\n",
        "    logging.info(\"Gráfico de volumes gerado e salvo como 'grafico_volumes.png'.\")"
      ],
      "metadata": {
        "id": "kccLY2_02hNl"
      },
      "execution_count": 11,
      "outputs": []
    },
    {
      "cell_type": "code",
      "source": [
        "print(\"Sistema de Exames Médicos Iniciados\")\n",
        "\n",
        "try:\n",
        "  inicio = time.time()\n",
        "  tracemalloc.start()\n",
        "\n",
        "  print(\"\\n-----------------------------\\n\")\n",
        "\n",
        "  criticos = filtrar_exames(exames, 2.0)\n",
        "  for critico in criticos:\n",
        "    print(f\"Paciente: {critico['paciente']} - Medidas: {critico['medidas']} - Volume: {calcular_volume(critico['medidas']):.2f}\")\n",
        "  exportar_relatorio(criticos)\n",
        "  exportar_csv(criticos)\n",
        "\n",
        "  print(\"\\n-----------------------------\\n\")\n",
        "\n",
        "  total_volumes = soma_volumes_recursiva(exames)\n",
        "  print(f\"Volume total das amostras: {total_volumes:.2f}\")\n",
        "\n",
        "  print(\"\\n-----------------------------\\n\")\n",
        "\n",
        "  id_para_busca = 13\n",
        "  exame_encontrado = busca_binaria(exames, id_para_busca)\n",
        "  if exame_encontrado:\n",
        "    print(f\"Exame encontrado\\nPaciente: {exame_encontrado['paciente']} - Medidas: {exame_encontrado['medidas']} Volume: {calcular_volume(exame_encontrado['medidas']):.2f}\")\n",
        "  else:\n",
        "    raise ValueError(\"Exame não encontrado.\")\n",
        "\n",
        "  print(\"\\n-----------------------------\\n\")\n",
        "\n",
        "  inconsistentes = [ex for ex in exames if not validar_medidas(ex)]\n",
        "  print(f\"Exames inconsistentes: {[ex['paciente'] for ex in inconsistentes]}\")\n",
        "\n",
        "  print(\"\\n-----------------------------\\n\")\n",
        "\n",
        "  estatisticas = analise_estatistica(exames)\n",
        "  for estatistica in estatisticas:\n",
        "    print(f\"Paciente: {estatistica['paciente']} - Média: {estatistica['media']:.2f}, Desvio: {estatistica['desvio']:.2f}\")\n",
        "\n",
        "  print(\"\\n-----------------------------\\n\")\n",
        "\n",
        "  atual, pico = tracemalloc.get_traced_memory()\n",
        "  final = time.time()\n",
        "  print(f\"Tempo de execução: {final - inicio:.3f} segundos\")\n",
        "  print(f\"Uso atual da memória: {atual / 10**6:.3f} MB\")\n",
        "  print(f\"Pico de uso da memória: {pico / 10**6:.3f} MB\")\n",
        "except Exception as e:\n",
        "        logging.error(f\"Erro na execução: {e}\")"
      ],
      "metadata": {
        "colab": {
          "base_uri": "https://localhost:8080/"
        },
        "id": "Myr25TKW2tbY",
        "outputId": "6281e289-22b3-41a3-9c74-21a0c0887097"
      },
      "execution_count": 17,
      "outputs": [
        {
          "output_type": "stream",
          "name": "stdout",
          "text": [
            "Sistema de Exames Médicos Iniciados\n",
            "\n",
            "-----------------------------\n",
            "\n",
            "Paciente: João - Medidas: [2.1, 1.5, 1.9] - Volume: 5.99\n",
            "Paciente: Heitor - Medidas: [2.5, 2.0, 2.2] - Volume: 11.00\n",
            "Paciente: Roger - Medidas: [2.3, 2.1, 2.4] - Volume: 11.59\n",
            "Paciente: Bruno - Medidas: [2.2, 2.0, 2.1] - Volume: 9.24\n",
            "Paciente: Thiago - Medidas: [2.5, 2.3, 2.4] - Volume: 13.80\n",
            "\n",
            "-----------------------------\n",
            "\n",
            "Volume total das amostras: 79.08\n",
            "\n",
            "-----------------------------\n",
            "\n",
            "Exame encontrado\n",
            "Paciente: Belisa - Medidas: [0.75, 0.8, 0.7] Volume: 0.42\n",
            "\n",
            "-----------------------------\n",
            "\n",
            "Exames inconsistentes: []\n",
            "\n",
            "-----------------------------\n",
            "\n",
            "Paciente: Maria - Média: 0.97, Desvio: 0.21\n",
            "Paciente: João - Média: 1.83, Desvio: 0.31\n",
            "Paciente: Luiza - Média: 0.60, Desvio: 0.10\n",
            "Paciente: Carlos - Média: 1.10, Desvio: 0.10\n",
            "Paciente: Heitor - Média: 2.23, Desvio: 0.25\n",
            "Paciente: Pedro - Média: 0.85, Desvio: 0.05\n",
            "Paciente: Fernanda - Média: 1.70, Desvio: 0.10\n",
            "Paciente: Lucas - Média: 1.02, Desvio: 0.08\n",
            "Paciente: Roger - Média: 2.27, Desvio: 0.15\n",
            "Paciente: Rafael - Média: 0.70, Desvio: 0.10\n",
            "Paciente: Vinícius - Média: 1.30, Desvio: 0.10\n",
            "Paciente: Felipe - Média: 1.90, Desvio: 0.10\n",
            "Paciente: Belisa - Média: 0.75, Desvio: 0.05\n",
            "Paciente: Bruno - Média: 2.10, Desvio: 0.10\n",
            "Paciente: Jessica - Média: 1.30, Desvio: 0.10\n",
            "Paciente: Eduardo - Média: 0.92, Desvio: 0.08\n",
            "Paciente: Davi - Média: 1.60, Desvio: 0.10\n",
            "Paciente: Thiago - Média: 2.40, Desvio: 0.10\n",
            "Paciente: Gabriel - Média: 1.03, Desvio: 0.06\n",
            "Paciente: Gustavo - Média: 0.85, Desvio: 0.05\n",
            "\n",
            "-----------------------------\n",
            "\n",
            "Tempo de execução: 0.011 segundos\n",
            "Uso atual da memória: 0.174 MB\n",
            "Pico de uso da memória: 0.489 MB\n"
          ]
        }
      ]
    }
  ]
}